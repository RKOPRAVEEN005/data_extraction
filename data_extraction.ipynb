{
 "cells": [
  {
   "cell_type": "code",
   "execution_count": null,
   "id": "aa013fbc-2083-4106-bf3d-07110df029a0",
   "metadata": {},
   "outputs": [],
   "source": []
  },
  {
   "cell_type": "code",
   "execution_count": 3,
   "id": "6955fc94-bfaf-4dc9-aff1-98aa1fd60329",
   "metadata": {},
   "outputs": [
    {
     "name": "stdout",
     "output_type": "stream",
     "text": [
      "Requirement already satisfied: flask in c:\\users\\user\\pycharmprojects\\my_learning\\.venv\\lib\\site-packages (3.0.3)\n",
      "Requirement already satisfied: Werkzeug>=3.0.0 in c:\\users\\user\\pycharmprojects\\my_learning\\.venv\\lib\\site-packages (from flask) (3.0.4)\n",
      "Requirement already satisfied: Jinja2>=3.1.2 in c:\\users\\user\\pycharmprojects\\my_learning\\.venv\\lib\\site-packages (from flask) (3.1.4)\n",
      "Requirement already satisfied: itsdangerous>=2.1.2 in c:\\users\\user\\pycharmprojects\\my_learning\\.venv\\lib\\site-packages (from flask) (2.2.0)\n",
      "Requirement already satisfied: click>=8.1.3 in c:\\users\\user\\pycharmprojects\\my_learning\\.venv\\lib\\site-packages (from flask) (8.1.7)\n",
      "Requirement already satisfied: blinker>=1.6.2 in c:\\users\\user\\pycharmprojects\\my_learning\\.venv\\lib\\site-packages (from flask) (1.8.2)\n",
      "Requirement already satisfied: colorama in c:\\users\\user\\pycharmprojects\\my_learning\\.venv\\lib\\site-packages (from click>=8.1.3->flask) (0.4.6)\n",
      "Requirement already satisfied: MarkupSafe>=2.0 in c:\\users\\user\\pycharmprojects\\my_learning\\.venv\\lib\\site-packages (from Jinja2>=3.1.2->flask) (2.1.5)\n",
      "Note: you may need to restart the kernel to use updated packages.\n"
     ]
    },
    {
     "name": "stderr",
     "output_type": "stream",
     "text": [
      "\n",
      "[notice] A new release of pip is available: 23.2.1 -> 24.2\n",
      "[notice] To update, run: python.exe -m pip install --upgrade pip\n"
     ]
    }
   ],
   "source": [
    "pip install flask\n"
   ]
  },
  {
   "cell_type": "code",
   "execution_count": 14,
   "id": "50f46bda-8bec-4794-827e-9ac70ad6f73c",
   "metadata": {},
   "outputs": [
    {
     "name": "stdout",
     "output_type": "stream",
     "text": [
      "Note: you may need to restart the kernel to use updated packages.\n"
     ]
    },
    {
     "name": "stderr",
     "output_type": "stream",
     "text": [
      "ERROR: Could not find a version that satisfies the requirement cv2 (from versions: none)\n",
      "ERROR: No matching distribution found for cv2\n",
      "\n",
      "[notice] A new release of pip is available: 23.2.1 -> 24.2\n",
      "[notice] To update, run: python.exe -m pip install --upgrade pip\n"
     ]
    }
   ],
   "source": [
    "pip install cv2\n"
   ]
  },
  {
   "cell_type": "code",
   "execution_count": 15,
   "id": "50d2688b-0eb2-4f8a-99ed-8c56be7e4697",
   "metadata": {},
   "outputs": [
    {
     "name": "stdout",
     "output_type": "stream",
     "text": [
      "Collecting pytesseract\n",
      "  Obtaining dependency information for pytesseract from https://files.pythonhosted.org/packages/7a/33/8312d7ce74670c9d39a532b2c246a853861120486be9443eebf048043637/pytesseract-0.3.13-py3-none-any.whl.metadata\n",
      "  Using cached pytesseract-0.3.13-py3-none-any.whl.metadata (11 kB)\n",
      "Requirement already satisfied: packaging>=21.3 in c:\\users\\user\\pycharmprojects\\my_learning\\.venv\\lib\\site-packages (from pytesseract) (24.1)\n",
      "Collecting Pillow>=8.0.0 (from pytesseract)\n",
      "  Obtaining dependency information for Pillow>=8.0.0 from https://files.pythonhosted.org/packages/74/0a/d4ce3c44bca8635bd29a2eab5aa181b654a734a29b263ca8efe013beea98/pillow-10.4.0-cp312-cp312-win_amd64.whl.metadata\n",
      "  Using cached pillow-10.4.0-cp312-cp312-win_amd64.whl.metadata (9.3 kB)\n",
      "Using cached pytesseract-0.3.13-py3-none-any.whl (14 kB)\n",
      "Using cached pillow-10.4.0-cp312-cp312-win_amd64.whl (2.6 MB)\n",
      "Installing collected packages: Pillow, pytesseract\n",
      "Successfully installed Pillow-10.4.0 pytesseract-0.3.13\n",
      "Note: you may need to restart the kernel to use updated packages.\n"
     ]
    },
    {
     "name": "stderr",
     "output_type": "stream",
     "text": [
      "\n",
      "[notice] A new release of pip is available: 23.2.1 -> 24.2\n",
      "[notice] To update, run: python.exe -m pip install --upgrade pip\n"
     ]
    }
   ],
   "source": [
    "pip install pytesseract\n"
   ]
  },
  {
   "cell_type": "code",
   "execution_count": 18,
   "id": "654e3e12-c8b6-409e-8feb-c859ec7c918a",
   "metadata": {},
   "outputs": [
    {
     "name": "stdout",
     "output_type": "stream",
     "text": [
      "Collecting opencv-pythonNote: you may need to restart the kernel to use updated packages.\n",
      "\n",
      "  Obtaining dependency information for opencv-python from https://files.pythonhosted.org/packages/ec/6c/fab8113424af5049f85717e8e527ca3773299a3c6b02506e66436e19874f/opencv_python-4.10.0.84-cp37-abi3-win_amd64.whl.metadata\n",
      "  Using cached opencv_python-4.10.0.84-cp37-abi3-win_amd64.whl.metadata (20 kB)\n",
      "Requirement already satisfied: numpy>=1.21.2 in c:\\users\\user\\pycharmprojects\\my_learning\\.venv\\lib\\site-packages (from opencv-python) (2.1.0)\n",
      "Using cached opencv_python-4.10.0.84-cp37-abi3-win_amd64.whl (38.8 MB)\n",
      "Installing collected packages: opencv-python\n",
      "Successfully installed opencv-python-4.10.0.84\n"
     ]
    },
    {
     "name": "stderr",
     "output_type": "stream",
     "text": [
      "\n",
      "[notice] A new release of pip is available: 23.2.1 -> 24.2\n",
      "[notice] To update, run: python.exe -m pip install --upgrade pip\n"
     ]
    }
   ],
   "source": [
    "pip install opencv-python"
   ]
  },
  {
   "cell_type": "code",
   "execution_count": null,
   "id": "8c8fa59a-ee81-466b-ba89-9f9fda728921",
   "metadata": {},
   "outputs": [
    {
     "name": "stdout",
     "output_type": "stream",
     "text": [
      " * Serving Flask app '__main__'\n",
      " * Debug mode: off\n"
     ]
    },
    {
     "name": "stderr",
     "output_type": "stream",
     "text": [
      "WARNING: This is a development server. Do not use it in a production deployment. Use a production WSGI server instead.\n",
      " * Running on http://127.0.0.1:5000\n",
      "Press CTRL+C to quit\n",
      "[2024-08-28 20:44:21,959] ERROR in app: Exception on /dataextractor [GET]\n",
      "Traceback (most recent call last):\n",
      "  File \"C:\\Users\\user\\PycharmProjects\\my_learning\\.venv\\Lib\\site-packages\\pytesseract\\pytesseract.py\", line 275, in run_tesseract\n",
      "    proc = subprocess.Popen(cmd_args, **subprocess_args())\n",
      "           ^^^^^^^^^^^^^^^^^^^^^^^^^^^^^^^^^^^^^^^^^^^^^^^\n",
      "  File \"C:\\Users\\user\\AppData\\Local\\Programs\\Python\\Python312\\Lib\\subprocess.py\", line 1026, in __init__\n",
      "    self._execute_child(args, executable, preexec_fn, close_fds,\n",
      "  File \"C:\\Users\\user\\AppData\\Local\\Programs\\Python\\Python312\\Lib\\subprocess.py\", line 1538, in _execute_child\n",
      "    hp, ht, pid, tid = _winapi.CreateProcess(executable, args,\n",
      "                       ^^^^^^^^^^^^^^^^^^^^^^^^^^^^^^^^^^^^^^^\n",
      "FileNotFoundError: [WinError 2] The system cannot find the file specified\n",
      "\n",
      "During handling of the above exception, another exception occurred:\n",
      "\n",
      "Traceback (most recent call last):\n",
      "  File \"C:\\Users\\user\\PycharmProjects\\my_learning\\.venv\\Lib\\site-packages\\flask\\app.py\", line 1473, in wsgi_app\n",
      "    response = self.full_dispatch_request()\n",
      "               ^^^^^^^^^^^^^^^^^^^^^^^^^^^^\n",
      "  File \"C:\\Users\\user\\PycharmProjects\\my_learning\\.venv\\Lib\\site-packages\\flask\\app.py\", line 882, in full_dispatch_request\n",
      "    rv = self.handle_user_exception(e)\n",
      "         ^^^^^^^^^^^^^^^^^^^^^^^^^^^^^\n",
      "  File \"C:\\Users\\user\\PycharmProjects\\my_learning\\.venv\\Lib\\site-packages\\flask\\app.py\", line 880, in full_dispatch_request\n",
      "    rv = self.dispatch_request()\n",
      "         ^^^^^^^^^^^^^^^^^^^^^^^\n",
      "  File \"C:\\Users\\user\\PycharmProjects\\my_learning\\.venv\\Lib\\site-packages\\flask\\app.py\", line 865, in dispatch_request\n",
      "    return self.ensure_sync(self.view_functions[rule.endpoint])(**view_args)  # type: ignore[no-any-return]\n",
      "           ^^^^^^^^^^^^^^^^^^^^^^^^^^^^^^^^^^^^^^^^^^^^^^^^^^^^^^^^^^^^^^^^^\n",
      "  File \"C:\\Users\\user\\AppData\\Local\\Temp\\ipykernel_23172\\3827422030.py\", line 19, in get_dict_json\n",
      "    text = pytesseract.image_to_string(image)\n",
      "           ^^^^^^^^^^^^^^^^^^^^^^^^^^^^^^^^^^\n",
      "  File \"C:\\Users\\user\\PycharmProjects\\my_learning\\.venv\\Lib\\site-packages\\pytesseract\\pytesseract.py\", line 486, in image_to_string\n",
      "    return {\n",
      "           ^\n",
      "  File \"C:\\Users\\user\\PycharmProjects\\my_learning\\.venv\\Lib\\site-packages\\pytesseract\\pytesseract.py\", line 489, in <lambda>\n",
      "    Output.STRING: lambda: run_and_get_output(*args),\n",
      "                           ^^^^^^^^^^^^^^^^^^^^^^^^^\n",
      "  File \"C:\\Users\\user\\PycharmProjects\\my_learning\\.venv\\Lib\\site-packages\\pytesseract\\pytesseract.py\", line 352, in run_and_get_output\n",
      "    run_tesseract(**kwargs)\n",
      "  File \"C:\\Users\\user\\PycharmProjects\\my_learning\\.venv\\Lib\\site-packages\\pytesseract\\pytesseract.py\", line 280, in run_tesseract\n",
      "    raise TesseractNotFoundError()\n",
      "pytesseract.pytesseract.TesseractNotFoundError: C:\\Program Files\\Tesseract-OCR\\tesseract.exe is not installed or it's not in your PATH. See README file for more information.\n",
      "127.0.0.1 - - [28/Aug/2024 20:44:22] \"GET /dataextractor HTTP/1.1\" 500 -\n"
     ]
    }
   ],
   "source": [
    "from flask import Flask, jsonify, request\n",
    "import pandas as pd\n",
    "import cv2\n",
    "import pytesseract\n",
    "import  json\n",
    "app = Flask(__name__)\n",
    "\n",
    "@app.route('/')\n",
    "def welcome_page():\n",
    "    return 'Welcome to Data Extraction PRAVEEN App'\n",
    "     \n",
    "@app.route('/dataextractor', methods=['GET'])\n",
    "def get_dict_json():\n",
    "    #file = request.files['image']\n",
    "    #file.save('static/' + file.filename)\n",
    "   \n",
    "    pytesseract.pytesseract.tesseract_cmd = r'C:\\Program Files\\Tesseract-OCR\\tesseract.exe'\n",
    "    image=cv2.imread(r'C:\\Users\\user\\PycharmProjects\\my_learning\\rdx.png')\n",
    "    text = pytesseract.image_to_string(image)\n",
    "    variable=text.split(\"Total\")\n",
    "    variable\n",
    "    lines = variable[1].split('\\n')\n",
    "    filtered_lines = [line for line in lines if \"Subtotal\" not in line and \"Tax\" not in line]\n",
    "    filtered_lines\n",
    "    filtered_data = [line for line in filtered_lines if line.strip()]\n",
    "    filtered_data\n",
    "    item_names = []\n",
    "    quantities = []\n",
    "    prices = []\n",
    "    total = []\n",
    "   \n",
    "    for item in filtered_data :\n",
    "        components = item.split()\n",
    "        print(components)\n",
    "       \n",
    "        item_names.append(' '.join(components [0:3]))\n",
    "        quantities.append(components[3])\n",
    "        prices.append(components[-2])\n",
    "        total.append(components[-1])\n",
    "   \n",
    "    data = {\n",
    "        'Item name':item_names,\n",
    "        'Quantities':quantities,\n",
    "        'Prices':prices,\n",
    "        'Total':total,\n",
    "    }\n",
    "    df = pd.DataFrame(data)\n",
    "    df\n",
    "   \n",
    "    json_data = df.to_json()\n",
    "    json_data\n",
    "    dict_=json.loads(json_data)\n",
    "    dict_['Item name']\n",
    "       \n",
    "    return dict_\n",
    "\n",
    "if __name__ == '__main__':\n",
    "    app.run()"
   ]
  },
  {
   "cell_type": "code",
   "execution_count": null,
   "id": "db422c3e-9e8e-4cca-b153-abf14ef5625f",
   "metadata": {},
   "outputs": [],
   "source": []
  }
 ],
 "metadata": {
  "kernelspec": {
   "display_name": "Python 3 (ipykernel)",
   "language": "python",
   "name": "python3"
  },
  "language_info": {
   "codemirror_mode": {
    "name": "ipython",
    "version": 3
   },
   "file_extension": ".py",
   "mimetype": "text/x-python",
   "name": "python",
   "nbconvert_exporter": "python",
   "pygments_lexer": "ipython3",
   "version": "3.12.5"
  }
 },
 "nbformat": 4,
 "nbformat_minor": 5
}
